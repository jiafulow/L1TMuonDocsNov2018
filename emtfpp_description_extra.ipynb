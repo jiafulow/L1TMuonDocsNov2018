{
 "cells": [
  {
   "cell_type": "code",
   "execution_count": 1,
   "metadata": {},
   "outputs": [],
   "source": [
    "if False:\n",
    "  import graphviz as gv\n",
    "  d = gv.Digraph('algorithm_blocks', engine='dot')\n",
    "  d.attr(rankdir='LR')\n",
    "\n",
    "  d.attr('node', shape='plaintext', fontname='Helvetica, sans-serif', fontsize='14')\n",
    "  d.node('I', 'hits')\n",
    "  d.node('O', 'tracks')\n",
    "\n",
    "  d.attr('node', shape='square', style='rounded,filled', color='#1C7C4C', fontcolor='white', fixed_size='true', width='1.3')\n",
    "  d.node('A', 'Primitive\\nConversion')\n",
    "  d.node('B', 'Pattern\\nRecognition')\n",
    "  d.node('C', 'Track\\nBuilding')\n",
    "  d.node('D', 'Parameter\\nAssignment')\n",
    "\n",
    "  d.attr('edge', fontname='Helvetica, sans-serif', fontsize='12', arrowsize='0.6')\n",
    "  #d.edges(['IA', 'AB', 'BC', 'CD', 'DO'])\n",
    "  d.edge('I', 'A', label='')\n",
    "  d.edge('A', 'B', label='conv.\\nhits')\n",
    "  d.edge('B', 'C', label='roads')\n",
    "  d.edge('C', 'D', label='proto-\\ntracks')\n",
    "  d.edge('D', 'O', label='')\n",
    "\n",
    "  d.format='svg'\n",
    "  d.render()\n",
    "  d"
   ]
  },
  {
   "cell_type": "code",
   "execution_count": 2,
   "metadata": {
    "scrolled": false
   },
   "outputs": [],
   "source": [
    "if False:\n",
    "  import graphviz as gv\n",
    "  d = gv.Digraph('neural_network', engine='dot')\n",
    "  d.attr(rankdir='LR', size='7,10')\n",
    "  d.attr(splines='line', nodesep='.1', ranksep='3.5', outputorder='edgesfirst')\n",
    "  d.node_attr.update(color='#FF7F7F', shape='circle', style='solid', penwdith='3', label='')\n",
    "  d.edge_attr.update(color='#999999', weight='.1', arrowhead='none')\n",
    "\n",
    "  # Number of nodes in the input layer, hidden layers 1-3, output layer\n",
    "  nnodes = [39,50,30,20,2]\n",
    "\n",
    "  labels = ['Input', 'Hidden', 'Hidden', 'Hidden', 'Output']\n",
    "\n",
    "  nlayers = len(nnodes)\n",
    "\n",
    "  for i in xrange(nlayers):\n",
    "    with d.subgraph(name='cluster_%i' % i) as c:\n",
    "      c.attr(label=labels[i], color='none')\n",
    "      for j in xrange(nnodes[i]):\n",
    "        c.node('node_%i_%i' % (i,j))\n",
    "\n",
    "  for i in xrange(nlayers-1):\n",
    "    for j in xrange(nnodes[i]):\n",
    "      for k in xrange(nnodes[i+1]):\n",
    "        d.edge('node_%i_%i' % (i,j), 'node_%i_%i' % (i+1,k))\n",
    "\n",
    "  d.format='svg'\n",
    "  d.render()\n",
    "  d"
   ]
  },
  {
   "cell_type": "code",
   "execution_count": null,
   "metadata": {},
   "outputs": [],
   "source": []
  }
 ],
 "metadata": {
  "kernelspec": {
   "display_name": "Python 2",
   "language": "python",
   "name": "python2"
  },
  "language_info": {
   "codemirror_mode": {
    "name": "ipython",
    "version": 2
   },
   "file_extension": ".py",
   "mimetype": "text/x-python",
   "name": "python",
   "nbconvert_exporter": "python",
   "pygments_lexer": "ipython2",
   "version": "2.7.15"
  }
 },
 "nbformat": 4,
 "nbformat_minor": 2
}
