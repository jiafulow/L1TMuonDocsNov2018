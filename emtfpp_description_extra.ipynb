{
 "cells": [
  {
   "cell_type": "code",
   "execution_count": 1,
   "metadata": {},
   "outputs": [],
   "source": [
    "if False:\n",
    "  import graphviz as gv\n",
    "  d = gv.Digraph('algorithm_blocks', engine='dot')\n",
    "  d.attr(rankdir='LR')\n",
    "\n",
    "  d.attr('node', shape='plaintext', fontname='Helvetica, sans-serif', fontsize='14')\n",
    "  d.node('I', 'hits')\n",
    "  d.node('O', 'tracks')\n",
    "\n",
    "  d.attr('node', shape='square', style='rounded,filled', color='#1C7C4C', fontcolor='white', fixed_size='true', width='1.3')\n",
    "  d.node('A', 'Primitive\\nConversion')\n",
    "  d.node('B', 'Pattern\\nRecognition')\n",
    "  d.node('C', 'Track\\nBuilding')\n",
    "  d.node('D', 'Parameter\\nAssignment')\n",
    "\n",
    "  d.attr('edge', fontname='Helvetica, sans-serif', fontsize='12', arrowsize='0.6')\n",
    "  #d.edges(['IA', 'AB', 'BC', 'CD', 'DO'])\n",
    "  d.edge('I', 'A', label='')\n",
    "  d.edge('A', 'B', label='conv.\\nhits')\n",
    "  d.edge('B', 'C', label='roads')\n",
    "  d.edge('C', 'D', label='proto-\\ntracks')\n",
    "  d.edge('D', 'O', label='')\n",
    "\n",
    "  d.format='svg'\n",
    "  d.render()\n",
    "  d"
   ]
  },
  {
   "cell_type": "code",
   "execution_count": null,
   "metadata": {},
   "outputs": [],
   "source": []
  }
 ],
 "metadata": {
  "kernelspec": {
   "display_name": "Python 2",
   "language": "python",
   "name": "python2"
  },
  "language_info": {
   "codemirror_mode": {
    "name": "ipython",
    "version": 2
   },
   "file_extension": ".py",
   "mimetype": "text/x-python",
   "name": "python",
   "nbconvert_exporter": "python",
   "pygments_lexer": "ipython2",
   "version": "2.7.15"
  }
 },
 "nbformat": 4,
 "nbformat_minor": 2
}
