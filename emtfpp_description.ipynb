{
 "cells": [
  {
   "cell_type": "markdown",
   "metadata": {},
   "source": [
    "# EMTF++"
   ]
  },
  {
   "cell_type": "markdown",
   "metadata": {},
   "source": [
    "## Table of Contents\n",
    "\n",
    "- [Introduction](#Introduction)\n",
    "  \n",
    "  * [Version](#Version)\n",
    "  * [Requirements](#Requirements)\n",
    "  * [New forward muon detectors](#New-forward-muon-detectors)\n",
    "  * [EMTF fastsim, emulator, firmware](#EMTF-fastsim,-emulator,-firmware)\n",
    "  \n",
    "- [Algorithm](#Algorithm)\n",
    "\n",
    "  * [Primitive conversion](#Primitive-conversion)\n",
    "  * [Pattern recognition](#Pattern-recognition)\n",
    "  * [Track building](#Track-building)\n",
    "  * [Parameter assignment](#Parameter-assignment)\n",
    "  \n",
    "- [Performance plots](#Performance-plots)\n",
    "\n",
    "  * Resolution\n",
    "  * Efficiency\n",
    "  * Rates\n",
    "  * Robustness\n",
    "\n",
    "- [Future plans](#Future-plans)\n",
    "\n",
    "  * Displaced muons\n",
    "  * Extension to overlap region\n",
    "  * Etc"
   ]
  },
  {
   "cell_type": "markdown",
   "metadata": {},
   "source": [
    "## Introduction"
   ]
  },
  {
   "cell_type": "markdown",
   "metadata": {},
   "source": [
    "### Version\n",
    "\n",
    "- __v1.1.0__ (2018-11-06): Fixed the incorrect number of bunches used in the rate calculation: ~~1866~~ 2808\n",
    "\n",
    "- __v1.0.0__ (2018-10-18): Reworked the patterns and the NN to reduce resource usage, without affecting the performance. Used as the starting point for (i) CMSSW integration. (ii) Firmware implementation."
   ]
  },
  {
   "cell_type": "markdown",
   "metadata": {},
   "source": [
    "### Requirements\n",
    "\n",
    "- <span style=\"font-size: 120%\">Maintain sensitivity to electroweak scale physics at higher luminosity and pileup of the HL-LHC</span>\n",
    "  * Report all standalone muon coordinates and momenta in convention to facilitate __global correlation__ with tracks from the __Track Trigger__\n",
    "    + The tracker will have far better p<sub>T</sub> resolution for rate reduction\n",
    "  * Incorporate additional HL-LHC forward muon detectors to improve \n",
    "    + Efficiency, redundancy, and improved standalone p<sub>T</sub> measurement\n",
    "  * Maintain standalone muon trigger (without track combination) for sufficiently high p<sub>T</sub> threshold\n",
    "    + HL-LHC is “only” 3-4X higher lumi, and we increased the max L1 rate\n",
    "- <span style=\"font-size: 120%\">Add sensitivity to new physics scenarios, i.e. acceptance to __displaced muons and HSCPs__ from long-lived particle decays</span>\n",
    "  * Additional patterns/logic and momentum assignment required (vertex constrained and not)"
   ]
  },
  {
   "cell_type": "markdown",
   "metadata": {},
   "source": [
    "### New forward muon detectors\n",
    "\n",
    "<img src=\"figures/cms_upg_o_g_b_ni_gem_re1_me0_grid_160229.png\" width=\"800px\"/>\n",
    "<a href=\"figures/cms_upg_o_g_b_ni_gem_re1_me0_grid_160229.pdf\">Download PDF</a>\n",
    "\n",
    "- New forward detectors improve redundancy, efficiency and timing (only iRPC)\n",
    "  * GEM detectors: GE1/1, GE2/1\n",
    "  * iRPC detectors: RE3/1, RE4/1\n",
    "  * ME0 detector\n",
    "- New detectors also provide additional inputs and improved angular information (bend angles) for better correlation with TT tracks and better standalone muon p<sub>T</sub> measurement\n",
    "- This requires increasing the bandwidth to the L1 muon electronics and adding more algorithm logic capability"
   ]
  },
  {
   "cell_type": "markdown",
   "metadata": {},
   "source": [
    "### EMTF fastsim, emulator, firmware\n",
    "\n",
    "While EMTF is really one algorithm, it is implemented in __two__ different ways: (i) firmware, written in Verilog and implemented in the MTF7 board; (ii) emulator, written in C++ and implemented as part of CMSSW software. In the perfect world, they should be identical, but this is not always the case, and it is very important to recognize this fact when referring to the details of the EMTF algorithm.\n",
    "\n",
    "In this document, I will try my best to be clear about which algorithm is being discussed. I'll denote the firmware algorithm as simply <span style=\"color: red\">__\"firmware\"__</span>, and the emulator algorithm as <span style=\"color: red\">__\"emulator\"__</span>. Whenever there is discrepancy, __firmware is always right__.\n",
    "\n",
    "In addition, in the course of developing the Phase-2 EMTF algorithm (namely EMTF++), I made another implementation: written in Python, and can be used outside of CMSSW. I'll denote this as <span style=\"color: red\">__\"fastsim\"__</span>. The main reason I do this is because (i) it's very tedious to work with the emulator directly, and (ii) it allows me to use certain powerful Python libraries directly (needed for my NN studies, more on that later). Basically, I have made simple ntuples and I can run Python scripts on them much more quickly (instead of going through the full CMSSW), which allows me to make changes more quickly.\n",
    "\n",
    "At the time of writing, this is what we have:\n",
    "- EMTF: firmware, emulator\n",
    "- EMTF++: fastsim\n",
    "\n",
    "The goal is to have the firmware and emulator versions of EMTF++ ready soon. (when?!)"
   ]
  },
  {
   "cell_type": "markdown",
   "metadata": {},
   "source": [
    "## Algorithm"
   ]
  },
  {
   "cell_type": "markdown",
   "metadata": {},
   "source": [
    "The EMTF system consists of 12 EMTF processors &mdash; 6 for each endcap, 1 for each 60&deg; sector (at 15&deg;, 75&deg;, ...). Each sector works independently. In the Phase-1 setup, the outputs of EMTF processors are sent to the &mu;GMT, which performs duplicate removals.\n",
    "\n",
    "<img src=\"figures/trigger_sectors.png\" width=\"500px\"/>\n",
    "\n",
    "The EMTF algorithm starts by receiving the hits, or trigger primitives, and ends by producing muon tracks with certain information: (most importantly) p<sub>T</sub> , &eta;, &phi;, track quality, and its associated hits. I will break the EMTF algorithm into 4 building blocks. Each block may consist of smaller blocks. EMTF++ is an extension of the EMTF algorithm, and it follows the same design. \n",
    "- Primitive conversion\n",
    "- Pattern recognition\n",
    "- Track building\n",
    "- Parameter assignment\n",
    "\n",
    "<img src=\"figures/algorithm_blocks.gv.svg\" width=\"800px\"/>\n",
    "\n",
    "In the following, I'll try to describe how each block works and what are the differences between EMTF vs EMTF++."
   ]
  },
  {
   "cell_type": "markdown",
   "metadata": {},
   "source": [
    "### Primitive conversion"
   ]
  },
  {
   "cell_type": "markdown",
   "metadata": {},
   "source": []
  },
  {
   "cell_type": "markdown",
   "metadata": {},
   "source": []
  },
  {
   "cell_type": "markdown",
   "metadata": {},
   "source": []
  },
  {
   "cell_type": "markdown",
   "metadata": {},
   "source": [
    "### Pattern recognition"
   ]
  },
  {
   "cell_type": "markdown",
   "metadata": {},
   "source": []
  },
  {
   "cell_type": "markdown",
   "metadata": {},
   "source": []
  },
  {
   "cell_type": "markdown",
   "metadata": {},
   "source": []
  },
  {
   "cell_type": "markdown",
   "metadata": {},
   "source": [
    "### Track building"
   ]
  },
  {
   "cell_type": "markdown",
   "metadata": {},
   "source": []
  },
  {
   "cell_type": "markdown",
   "metadata": {},
   "source": []
  },
  {
   "cell_type": "markdown",
   "metadata": {},
   "source": []
  },
  {
   "cell_type": "markdown",
   "metadata": {},
   "source": [
    "### Parameter assignment"
   ]
  },
  {
   "cell_type": "markdown",
   "metadata": {},
   "source": []
  },
  {
   "cell_type": "markdown",
   "metadata": {},
   "source": []
  },
  {
   "cell_type": "markdown",
   "metadata": {},
   "source": []
  },
  {
   "cell_type": "markdown",
   "metadata": {},
   "source": [
    "## Performance plots"
   ]
  },
  {
   "cell_type": "markdown",
   "metadata": {},
   "source": []
  },
  {
   "cell_type": "markdown",
   "metadata": {},
   "source": []
  },
  {
   "cell_type": "markdown",
   "metadata": {},
   "source": []
  },
  {
   "cell_type": "markdown",
   "metadata": {},
   "source": [
    "## Future plans"
   ]
  },
  {
   "cell_type": "markdown",
   "metadata": {},
   "source": []
  },
  {
   "cell_type": "markdown",
   "metadata": {},
   "source": []
  },
  {
   "cell_type": "markdown",
   "metadata": {},
   "source": []
  },
  {
   "cell_type": "markdown",
   "metadata": {},
   "source": []
  },
  {
   "cell_type": "markdown",
   "metadata": {},
   "source": []
  },
  {
   "cell_type": "markdown",
   "metadata": {},
   "source": []
  },
  {
   "cell_type": "markdown",
   "metadata": {},
   "source": []
  },
  {
   "cell_type": "code",
   "execution_count": 1,
   "metadata": {},
   "outputs": [],
   "source": [
    "#### Please ignore"
   ]
  },
  {
   "cell_type": "code",
   "execution_count": 2,
   "metadata": {},
   "outputs": [],
   "source": [
    "if False:\n",
    "  import graphviz as gv\n",
    "\n",
    "  d = gv.Digraph('algorithm_blocks', engine='dot')\n",
    "  d.attr(rankdir='LR')\n",
    "\n",
    "  d.attr('node', shape='plaintext', fontname='Helvetica, sans-serif', fontsize='14')\n",
    "  d.node('I', 'hits')\n",
    "  d.node('O', 'tracks')\n",
    "\n",
    "  d.attr('node', shape='square', style='rounded,filled', color='#1C7C4C', fontcolor='white', fixed_size='true', width='1.3')\n",
    "  d.node('A', 'Primitive\\nConversion')\n",
    "  d.node('B', 'Pattern\\nRecognition')\n",
    "  d.node('C', 'Track\\nBuilding')\n",
    "  d.node('D', 'Parameter\\nAssignment')\n",
    "\n",
    "  d.attr('edge', fontname='Helvetica, sans-serif', fontsize='12', arrowsize='0.6')\n",
    "  #d.edges(['IA', 'AB', 'BC', 'CD', 'DO'])\n",
    "  d.edge('I', 'A', label='')\n",
    "  d.edge('A', 'B', label='conv.\\nhits')\n",
    "  d.edge('B', 'C', label='roads')\n",
    "  d.edge('C', 'D', label='proto-\\ntracks')\n",
    "  d.edge('D', 'O', label='')\n",
    "\n",
    "  d.format='svg'\n",
    "  d.render()\n",
    "  d"
   ]
  },
  {
   "cell_type": "code",
   "execution_count": null,
   "metadata": {},
   "outputs": [],
   "source": []
  }
 ],
 "metadata": {
  "kernelspec": {
   "display_name": "Python 2",
   "language": "python",
   "name": "python2"
  },
  "language_info": {
   "codemirror_mode": {
    "name": "ipython",
    "version": 2
   },
   "file_extension": ".py",
   "mimetype": "text/x-python",
   "name": "python",
   "nbconvert_exporter": "python",
   "pygments_lexer": "ipython2",
   "version": "2.7.15"
  }
 },
 "nbformat": 4,
 "nbformat_minor": 2
}
