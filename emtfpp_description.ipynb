{
 "cells": [
  {
   "cell_type": "markdown",
   "metadata": {},
   "source": [
    "# EMTF++"
   ]
  },
  {
   "cell_type": "markdown",
   "metadata": {},
   "source": [
    "## Table of Contents\n",
    "\n",
    "- [Introduction](#Introduction)\n",
    "  \n",
    "  * [Version](#Version)\n",
    "  * [Requirements](#Requirements)\n",
    "  * [New forward muon detectors](#New-forward-muon-detectors)\n",
    "  * [EMTF firmware, emulator, fastsim](#EMTF-firmware,-emulator,-fastsim)\n",
    "  \n",
    "- [Algorithm](#Algorithm)\n",
    "\n",
    "  * [Primitive conversion](#Primitive-conversion)\n",
    "  * [Pattern recognition](#Pattern-recognition)\n",
    "  * [Track building](#Track-building)\n",
    "  * [Parameter assignment](#Parameter-assignment)\n",
    "  \n",
    "- [Performance plots](#Performance-plots)\n",
    "\n",
    "  * Resolution\n",
    "  * Efficiency\n",
    "  * Rates\n",
    "  * Robustness\n",
    "\n",
    "- [Future plans](#Future-plans)\n",
    "\n",
    "  * Displaced muons\n",
    "  * Extension to overlap region\n",
    "  * Etc"
   ]
  },
  {
   "cell_type": "markdown",
   "metadata": {},
   "source": [
    "## Introduction"
   ]
  },
  {
   "cell_type": "markdown",
   "metadata": {},
   "source": [
    "### Version\n",
    "\n",
    "- __v1.1.0__ (2018-11-06): Fixed the incorrect number of bunches used in the rate calculation: ~~1866~~ 2808\n",
    "\n",
    "- __v1.0.0__ (2018-10-18): Reworked the patterns and the NN to reduce resource usage, without affecting the performance. Used as the starting point for (i) CMSSW integration. (ii) Firmware implementation."
   ]
  },
  {
   "cell_type": "markdown",
   "metadata": {},
   "source": [
    "### Requirements\n",
    "\n",
    "- <span style=\"font-size: 120%\">Maintain sensitivity to electroweak scale physics at higher luminosity and pileup of the HL-LHC</span>\n",
    "  * Report all standalone muon coordinates and momenta in convention to facilitate __global correlation__ with tracks from the __Track Trigger__\n",
    "    + The tracker will have far better p<sub>T</sub> resolution for rate reduction\n",
    "  * Incorporate additional HL-LHC forward muon detectors to improve \n",
    "    + Efficiency, redundancy, and improved standalone p<sub>T</sub> measurement\n",
    "  * Maintain standalone muon trigger (without track combination) for sufficiently high p<sub>T</sub> threshold\n",
    "    + HL-LHC is “only” 3-4X higher lumi, and we increased the max L1 rate\n",
    "- <span style=\"font-size: 120%\">Add sensitivity to new physics scenarios, i.e. acceptance to __displaced muons and HSCPs__ from long-lived particle decays</span>\n",
    "  * Additional patterns/logic and momentum assignment required (vertex constrained and not)"
   ]
  },
  {
   "cell_type": "markdown",
   "metadata": {},
   "source": [
    "### New forward muon detectors\n",
    "\n",
    "<img src=\"figures/cms_upg_o_g_b_ni_gem_re1_me0_grid_160229.png\" width=\"800px\"/>\n",
    "<a href=\"figures/cms_upg_o_g_b_ni_gem_re1_me0_grid_160229.pdf\">Download PDF</a>\n",
    "\n",
    "- New forward detectors improve redundancy, efficiency and timing (only iRPC)\n",
    "  * GEM detectors: GE1/1, GE2/1\n",
    "  * iRPC detectors: RE3/1, RE4/1\n",
    "  * ME0 detector\n",
    "- New detectors also provide additional inputs and improved angular information (bend angles) for better correlation with TT tracks and better standalone muon p<sub>T</sub> measurement\n",
    "- This requires increasing the bandwidth to the L1 muon electronics and adding more algorithm logic capability"
   ]
  },
  {
   "cell_type": "markdown",
   "metadata": {},
   "source": [
    "### EMTF firmware, emulator, fastsim\n",
    "\n",
    "While EMTF is really one algorithm, it is implemented in __two__ different ways: (i) firmware, written in Verilog and implemented in the MTF7 board; (ii) emulator, written in C++ and implemented as part of CMSSW software ([GitHub repo](https://github.com/cms-sw/cmssw/tree/master/L1Trigger/L1TMuonEndCap)). In the perfect world, they should be identical, but this is not always the case, and it is very important to recognize this fact when referring to the details of the EMTF algorithm.\n",
    "\n",
    "In this document, I will try my best to be clear about which algorithm is being discussed. I'll denote the firmware algorithm as simply <span style=\"color: red; font-weight: bold\">\"firmware\"</span>, and the emulator algorithm as <span style=\"color: red; font-weight: bold\">\"emulator\"</span>. Whenever there is discrepancy, __firmware is always right__.\n",
    "\n",
    "In addition, in the course of developing the Phase-2 EMTF algorithm (namely EMTF++), I made another implementation in Python, and can be used outside of CMSSW. I'll denote this as <span style=\"color: red; font-weight: bold\">\"fastsim\"</span>. The main reason I do this is because (i) it's very tedious to work with the emulator directly, and (ii) it allows me to use certain powerful Python libraries directly (needed for my NN studies). Basically, I have made simple ntuples and I can run Python scripts on them much more quickly (instead of going through the full-blown CMSSW). It allows me to make changes more quickly.\n",
    "\n",
    "At the time of writing, this is what we have:\n",
    "- EMTF: firmware, emulator\n",
    "- EMTF++: fastsim\n",
    "\n",
    "My goal is to have the firmware and emulator versions of EMTF++ ready soon. (when?!)"
   ]
  },
  {
   "cell_type": "markdown",
   "metadata": {},
   "source": [
    "## Algorithm"
   ]
  },
  {
   "cell_type": "markdown",
   "metadata": {},
   "source": [
    "The EMTF system consists of 12 EMTF processors &mdash; 6 for each endcap, 1 for each 60&deg; trigger sector (at 15&deg;, 75&deg;, ...). Each sector works independently.\n",
    "\n",
    "<img src=\"figures/trigger_sectors.png\" width=\"500px\"/>\n",
    "\n",
    "To ensure coverage near the boundaries, each sector N also shares certain chambers with sector N+1. So, although each sector is nominally 60&deg;, it actually covers 70&deg; in the rings with 10&deg;-wide chambers, or 80&deg; in the rings with 20&deg;-wide chambers.\n",
    "- ME1: chambers with CSC_ID=3,6,9, subsector=2 are shared\n",
    "- ME2,3,4: chambers with CSC_ID=3,9 are shared\n",
    "\n",
    "The EMTF algorithm starts by receiving the hits, or trigger primitives, and ends by producing muon tracks with certain information: (most importantly) p<sub>T</sub> , &eta;, &#981;, track quality, and its associated hits. I will break the EMTF algorithm into 4 building blocks. \n",
    "\n",
    "<img src=\"figures/algorithm_blocks.gv.svg\" width=\"800px\"/>\n",
    "\n",
    "Each block may consist of smaller blocks. EMTF++ is an extension of the EMTF algorithm, and it follows the same design. In the following, I'll try to describe how each block works and what are the differences between EMTF vs EMTF++."
   ]
  },
  {
   "cell_type": "markdown",
   "metadata": {},
   "source": [
    "### Primitive conversion"
   ]
  },
  {
   "cell_type": "markdown",
   "metadata": {},
   "source": [
    "In Phase-1, EMTF receives two types of trigger primitives: CSC and RPC hits. In Phase-2, EMTF++ will receive additional GEM, iRPC and ME0 hits. \n",
    "\n",
    "The most important function here is to convert strip and wire numbers to integer &#981; and &theta; units. The integer &#981; unit is a local coordinate defined within a sector. The scale of the unit is 1/60 = 0.0167&deg;, encoded as a 13-bit integer (0 to 8191). The position 0 corresponds to -22&deg; from the lower boundary of the sector (since Sep 2018). To convert from the integer &#981; unit to CMS global coordinate (in degrees):\n",
    "\n",
    "\\begin{align}\n",
    "\\phi_{\\text{sector}} &= \\phi_{\\text{integer}} / 60 - 22 \\\\\n",
    "\\phi_{\\text{CMS}} &= \\phi_{\\text{sector}} + 15 + (\\text{sector}-1) \\times 60 \\\\\n",
    "& \\quad \\  \\text{sector} \\in \\{1,2,3,4,5,6\\}\n",
    "\\end{align}\n",
    "\n",
    "The integer &theta; unit has a scale of 0.285&deg; and is encoded as a 8-bit integer (0 to 255). The position 0 corresponds to 8.5&deg;. To convert from the integer &theta; unit to CMS global coordinate (in degrees):\n",
    "\n",
    "\\begin{align}\n",
    "\\theta_{\\text{CMS}} &= \\theta_{\\text{integer}} \\cdot \\left(\\frac{45-8.5}{128}\\right) + 8.5\\\\\n",
    "\\end{align}\n",
    "\n"
   ]
  },
  {
   "cell_type": "markdown",
   "metadata": {},
   "source": [
    "<span style=\"font-size: 120%\">**(i) CSC**</span>"
   ]
  },
  {
   "cell_type": "markdown",
   "metadata": {},
   "source": []
  },
  {
   "cell_type": "markdown",
   "metadata": {},
   "source": [
    "### Pattern recognition"
   ]
  },
  {
   "cell_type": "markdown",
   "metadata": {},
   "source": [
    "Zones ..."
   ]
  },
  {
   "cell_type": "markdown",
   "metadata": {},
   "source": []
  },
  {
   "cell_type": "markdown",
   "metadata": {},
   "source": []
  },
  {
   "cell_type": "markdown",
   "metadata": {},
   "source": [
    "### Track building"
   ]
  },
  {
   "cell_type": "markdown",
   "metadata": {},
   "source": []
  },
  {
   "cell_type": "markdown",
   "metadata": {},
   "source": []
  },
  {
   "cell_type": "markdown",
   "metadata": {},
   "source": []
  },
  {
   "cell_type": "markdown",
   "metadata": {},
   "source": [
    "### Parameter assignment"
   ]
  },
  {
   "cell_type": "markdown",
   "metadata": {},
   "source": []
  },
  {
   "cell_type": "markdown",
   "metadata": {},
   "source": []
  },
  {
   "cell_type": "markdown",
   "metadata": {},
   "source": []
  },
  {
   "cell_type": "markdown",
   "metadata": {},
   "source": [
    "## Performance plots"
   ]
  },
  {
   "cell_type": "markdown",
   "metadata": {},
   "source": []
  },
  {
   "cell_type": "markdown",
   "metadata": {},
   "source": []
  },
  {
   "cell_type": "markdown",
   "metadata": {},
   "source": []
  },
  {
   "cell_type": "markdown",
   "metadata": {},
   "source": [
    "## Future plans"
   ]
  },
  {
   "cell_type": "markdown",
   "metadata": {},
   "source": []
  },
  {
   "cell_type": "markdown",
   "metadata": {},
   "source": []
  },
  {
   "cell_type": "markdown",
   "metadata": {},
   "source": []
  },
  {
   "cell_type": "markdown",
   "metadata": {},
   "source": []
  },
  {
   "cell_type": "markdown",
   "metadata": {},
   "source": []
  },
  {
   "cell_type": "markdown",
   "metadata": {},
   "source": []
  },
  {
   "cell_type": "markdown",
   "metadata": {},
   "source": []
  },
  {
   "cell_type": "code",
   "execution_count": 1,
   "metadata": {},
   "outputs": [],
   "source": [
    "#### Please ignore"
   ]
  },
  {
   "cell_type": "code",
   "execution_count": 2,
   "metadata": {},
   "outputs": [],
   "source": [
    "if False:\n",
    "  import graphviz as gv\n",
    "\n",
    "  d = gv.Digraph('algorithm_blocks', engine='dot')\n",
    "  d.attr(rankdir='LR')\n",
    "\n",
    "  d.attr('node', shape='plaintext', fontname='Helvetica, sans-serif', fontsize='14')\n",
    "  d.node('I', 'hits')\n",
    "  d.node('O', 'tracks')\n",
    "\n",
    "  d.attr('node', shape='square', style='rounded,filled', color='#1C7C4C', fontcolor='white', fixed_size='true', width='1.3')\n",
    "  d.node('A', 'Primitive\\nConversion')\n",
    "  d.node('B', 'Pattern\\nRecognition')\n",
    "  d.node('C', 'Track\\nBuilding')\n",
    "  d.node('D', 'Parameter\\nAssignment')\n",
    "\n",
    "  d.attr('edge', fontname='Helvetica, sans-serif', fontsize='12', arrowsize='0.6')\n",
    "  #d.edges(['IA', 'AB', 'BC', 'CD', 'DO'])\n",
    "  d.edge('I', 'A', label='')\n",
    "  d.edge('A', 'B', label='conv.\\nhits')\n",
    "  d.edge('B', 'C', label='roads')\n",
    "  d.edge('C', 'D', label='proto-\\ntracks')\n",
    "  d.edge('D', 'O', label='')\n",
    "\n",
    "  d.format='svg'\n",
    "  d.render()\n",
    "  d"
   ]
  },
  {
   "cell_type": "code",
   "execution_count": null,
   "metadata": {},
   "outputs": [],
   "source": []
  }
 ],
 "metadata": {
  "kernelspec": {
   "display_name": "Python 2",
   "language": "python",
   "name": "python2"
  },
  "language_info": {
   "codemirror_mode": {
    "name": "ipython",
    "version": 2
   },
   "file_extension": ".py",
   "mimetype": "text/x-python",
   "name": "python",
   "nbconvert_exporter": "python",
   "pygments_lexer": "ipython2",
   "version": "2.7.15"
  }
 },
 "nbformat": 4,
 "nbformat_minor": 2
}
